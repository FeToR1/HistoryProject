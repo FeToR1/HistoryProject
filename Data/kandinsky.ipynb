{
 "metadata": {
  "kernelspec": {
   "language": "python",
   "display_name": "Python 3",
   "name": "python3"
  },
  "language_info": {
   "name": "python",
   "version": "3.10.12",
   "mimetype": "text/x-python",
   "codemirror_mode": {
    "name": "ipython",
    "version": 3
   },
   "pygments_lexer": "ipython3",
   "nbconvert_exporter": "python",
   "file_extension": ".py"
  },
  "kaggle": {
   "accelerator": "none",
   "dataSources": [
    {
     "sourceId": 7015985,
     "sourceType": "datasetVersion",
     "datasetId": 4033893
    }
   ],
   "dockerImageVersionId": 30580,
   "isInternetEnabled": true,
   "language": "python",
   "sourceType": "notebook",
   "isGpuEnabled": false
  }
 },
 "nbformat_minor": 4,
 "nbformat": 4,
 "cells": [
  {
   "cell_type": "code",
   "source": [
    "!pip install git+https://github.com/openai/CLIP.git\n",
    "!pip install git+https://github.com/ai-forever/Kandinsky-2.git"
   ],
   "metadata": {
    "_uuid": "8f2839f25d086af736a60e9eeb907d3b93b6e0e5",
    "_cell_guid": "b1076dfc-b9ad-4769-8c92-a6c4dae69d19",
    "execution": {
     "iopub.status.busy": "2023-11-22T17:11:44.206198Z",
     "iopub.execute_input": "2023-11-22T17:11:44.206458Z",
     "iopub.status.idle": "2023-11-22T17:12:27.131929Z",
     "shell.execute_reply.started": "2023-11-22T17:11:44.206434Z",
     "shell.execute_reply": "2023-11-22T17:12:27.130794Z"
    },
    "trusted": true
   },
   "execution_count": null,
   "outputs": []
  },
  {
   "cell_type": "code",
   "source": [
    "from kandinsky2 import get_kandinsky2"
   ],
   "metadata": {
    "execution": {
     "iopub.status.busy": "2023-11-22T17:13:11.551357Z",
     "iopub.execute_input": "2023-11-22T17:13:11.552003Z",
     "iopub.status.idle": "2023-11-22T17:13:11.556426Z",
     "shell.execute_reply.started": "2023-11-22T17:13:11.551971Z",
     "shell.execute_reply": "2023-11-22T17:13:11.555383Z"
    },
    "trusted": true
   },
   "execution_count": 3,
   "outputs": []
  },
  {
   "cell_type": "code",
   "source": [
    "model = get_kandinsky2(\n",
    "    'cuda:1',\n",
    "    task_type='text2img',\n",
    "    cache_dir='/tmp/kandinsky2',\n",
    "    model_version='2.1',\n",
    "    use_flash_attention=False\n",
    ")"
   ],
   "metadata": {
    "execution": {
     "iopub.status.busy": "2023-11-22T17:13:13.631005Z",
     "iopub.execute_input": "2023-11-22T17:13:13.631422Z",
     "iopub.status.idle": "2023-11-22T17:14:54.252530Z",
     "shell.execute_reply.started": "2023-11-22T17:13:13.631387Z",
     "shell.execute_reply": "2023-11-22T17:14:54.251431Z"
    },
    "trusted": true
   },
   "execution_count": null,
   "outputs": []
  },
  {
   "cell_type": "code",
   "source": [
    "def combine(img1, img2):\n",
    "    return model.mix_images(\n",
    "        [img1, img2], [0.5, 0.5],\n",
    "        num_steps=100,\n",
    "        batch_size=1,\n",
    "        guidance_scale=4,\n",
    "        h=768,\n",
    "        w=768,\n",
    "        sampler='p_sampler',\n",
    "        prior_cf_scale=2,\n",
    "        prior_steps=\"5\",\n",
    "    )[0]\n"
   ],
   "metadata": {
    "execution": {
     "iopub.status.busy": "2023-11-22T17:14:56.823417Z",
     "iopub.execute_input": "2023-11-22T17:14:56.824224Z",
     "iopub.status.idle": "2023-11-22T17:14:56.832550Z",
     "shell.execute_reply.started": "2023-11-22T17:14:56.824182Z",
     "shell.execute_reply": "2023-11-22T17:14:56.831531Z"
    },
    "trusted": true
   },
   "execution_count": 5,
   "outputs": []
  },
  {
   "cell_type": "code",
   "source": [
    "from PIL import Image\n",
    "import glob"
   ],
   "metadata": {
    "execution": {
     "iopub.status.busy": "2023-11-22T17:15:02.170560Z",
     "iopub.execute_input": "2023-11-22T17:15:02.171023Z",
     "iopub.status.idle": "2023-11-22T17:15:02.180365Z",
     "shell.execute_reply.started": "2023-11-22T17:15:02.170986Z",
     "shell.execute_reply": "2023-11-22T17:15:02.174752Z"
    },
    "trusted": true
   },
   "execution_count": 6,
   "outputs": []
  },
  {
   "cell_type": "code",
   "source": [
    "%mkdir /kaggle/working/GenArt"
   ],
   "metadata": {
    "execution": {
     "iopub.status.busy": "2023-11-22T17:15:21.268639Z",
     "iopub.execute_input": "2023-11-22T17:15:21.269526Z",
     "iopub.status.idle": "2023-11-22T17:15:22.417943Z",
     "shell.execute_reply.started": "2023-11-22T17:15:21.269490Z",
     "shell.execute_reply": "2023-11-22T17:15:22.416532Z"
    },
    "trusted": true
   },
   "execution_count": 7,
   "outputs": []
  },
  {
   "cell_type": "code",
   "source": [
    "Dir = \"/kaggle/input/arthist2/art2/\"\n",
    "SaveDir = \"GenArt/\""
   ],
   "metadata": {
    "execution": {
     "iopub.status.busy": "2023-11-22T17:15:38.265438Z",
     "iopub.execute_input": "2023-11-22T17:15:38.265841Z",
     "iopub.status.idle": "2023-11-22T17:15:38.270732Z",
     "shell.execute_reply.started": "2023-11-22T17:15:38.265807Z",
     "shell.execute_reply": "2023-11-22T17:15:38.269670Z"
    },
    "trusted": true
   },
   "execution_count": 9,
   "outputs": []
  },
  {
   "cell_type": "code",
   "source": [
    "img1 = Image.open(Dir+\"00-0.jpg\")\n",
    "img2 = Image.open(Dir+\"06-0.jpg\")\n",
    "combine(img1, img2)"
   ],
   "metadata": {
    "execution": {
     "iopub.status.busy": "2023-11-22T17:15:41.437872Z",
     "iopub.execute_input": "2023-11-22T17:15:41.438277Z",
     "iopub.status.idle": "2023-11-22T17:16:55.100117Z",
     "shell.execute_reply.started": "2023-11-22T17:15:41.438243Z",
     "shell.execute_reply": "2023-11-22T17:16:55.098962Z"
    },
    "trusted": true
   },
   "execution_count": null,
   "outputs": []
  },
  {
   "cell_type": "code",
   "source": [
    "namesPic = sorted(glob.glob(Dir+\"*.jpg\"))\n",
    "\n",
    "dPic = dict.fromkeys([i.split('/')[-1].removesuffix(\".jpg\") for i in namesPic])\n",
    "for key, value in zip(dPic.keys(), [Image.open(i) for i in namesPic]):\n",
    "    dPic[key] = value\n",
    "\n",
    "len(dPic)"
   ],
   "metadata": {
    "execution": {
     "iopub.status.busy": "2023-11-22T17:20:32.360784Z",
     "iopub.execute_input": "2023-11-22T17:20:32.361294Z",
     "iopub.status.idle": "2023-11-22T17:20:32.478378Z",
     "shell.execute_reply.started": "2023-11-22T17:20:32.361260Z",
     "shell.execute_reply": "2023-11-22T17:20:32.477440Z"
    },
    "trusted": true
   },
   "execution_count": 19,
   "outputs": [
    {
     "execution_count": 19,
     "output_type": "execute_result",
     "data": {
      "text/plain": "78"
     },
     "metadata": {}
    }
   ]
  },
  {
   "cell_type": "code",
   "source": [
    "from random import choice"
   ],
   "metadata": {
    "execution": {
     "iopub.status.busy": "2023-11-22T17:17:24.681827Z",
     "iopub.execute_input": "2023-11-22T17:17:24.682197Z",
     "iopub.status.idle": "2023-11-22T17:17:24.686425Z",
     "shell.execute_reply.started": "2023-11-22T17:17:24.682164Z",
     "shell.execute_reply": "2023-11-22T17:17:24.685403Z"
    },
    "trusted": true
   },
   "execution_count": 12,
   "outputs": []
  },
  {
   "cell_type": "code",
   "source": [
    "ind = 0\n",
    "for name, pic in dPic.items(): # 78 pictures\n",
    "    ch_name = choice(tuple(dPic.keys() - {name}))\n",
    "    out = f\"{name}+{ch_name}.jpg\"\n",
    "    ind += 1\n",
    "    print(f\"Gen {ind}: {out}\")\n",
    "    combine(pic, dPic[ch_name]).save(f\"{SaveDir}{out}\")\n",
    "    "
   ],
   "metadata": {
    "execution": {
     "iopub.status.busy": "2023-11-22T17:20:42.485561Z",
     "iopub.execute_input": "2023-11-22T17:20:42.486251Z",
     "iopub.status.idle": "2023-11-22T18:50:46.473556Z",
     "shell.execute_reply.started": "2023-11-22T17:20:42.486216Z",
     "shell.execute_reply": "2023-11-22T18:50:46.472618Z"
    },
    "trusted": true
   },
   "execution_count": null,
   "outputs": []
  },
  {
   "cell_type": "code",
   "source": [
    "# listPic[0].save(f\"{SaveDir}test2.jpg\")"
   ],
   "metadata": {
    "execution": {
     "iopub.status.busy": "2023-11-20T20:22:31.124895Z",
     "iopub.execute_input": "2023-11-20T20:22:31.125316Z",
     "iopub.status.idle": "2023-11-20T20:22:31.134680Z",
     "shell.execute_reply.started": "2023-11-20T20:22:31.125283Z",
     "shell.execute_reply": "2023-11-20T20:22:31.133777Z"
    },
    "trusted": true
   },
   "execution_count": null,
   "outputs": []
  }
 ]
}
